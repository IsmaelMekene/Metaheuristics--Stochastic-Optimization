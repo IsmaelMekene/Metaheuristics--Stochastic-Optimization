{
 "cells": [
  {
   "cell_type": "code",
   "execution_count": 25,
   "metadata": {},
   "outputs": [
    {
     "name": "stdout",
     "output_type": "stream",
     "text": [
      "Requirement already satisfied: numpy in /opt/miniconda3/envs/conda_env/lib/python3.7/site-packages (1.19.2)\n",
      "Requirement already satisfied: scipy in /opt/miniconda3/envs/conda_env/lib/python3.7/site-packages (1.5.2)\n",
      "Requirement already satisfied: numpy>=1.14.5 in /opt/miniconda3/envs/conda_env/lib/python3.7/site-packages (from scipy) (1.19.2)\n",
      "Requirement already satisfied: matplotlib in /opt/miniconda3/envs/conda_env/lib/python3.7/site-packages (3.3.2)\n",
      "Requirement already satisfied: python-dateutil>=2.1 in /opt/miniconda3/envs/conda_env/lib/python3.7/site-packages (from matplotlib) (2.8.1)\n",
      "Requirement already satisfied: certifi>=2020.06.20 in /opt/miniconda3/envs/conda_env/lib/python3.7/site-packages (from matplotlib) (2020.6.20)\n",
      "Requirement already satisfied: cycler>=0.10 in /opt/miniconda3/envs/conda_env/lib/python3.7/site-packages (from matplotlib) (0.10.0)\n",
      "Requirement already satisfied: numpy>=1.15 in /opt/miniconda3/envs/conda_env/lib/python3.7/site-packages (from matplotlib) (1.19.2)\n",
      "Requirement already satisfied: pillow>=6.2.0 in /opt/miniconda3/envs/conda_env/lib/python3.7/site-packages (from matplotlib) (8.0.0)\n",
      "Requirement already satisfied: pyparsing!=2.0.4,!=2.1.2,!=2.1.6,>=2.0.3 in /opt/miniconda3/envs/conda_env/lib/python3.7/site-packages (from matplotlib) (2.4.7)\n",
      "Requirement already satisfied: kiwisolver>=1.0.1 in /opt/miniconda3/envs/conda_env/lib/python3.7/site-packages (from matplotlib) (1.2.0)\n",
      "Requirement already satisfied: six>=1.5 in /opt/miniconda3/envs/conda_env/lib/python3.7/site-packages (from python-dateutil>=2.1->matplotlib) (1.15.0)\n",
      "\u001b[31mERROR: Could not find a version that satisfies the requirement random (from versions: none)\u001b[0m\n",
      "\u001b[31mERROR: No matching distribution found for random\u001b[0m\n"
     ]
    }
   ],
   "source": [
    "! pip install numpy \n",
    "! pip install scipy\n",
    "! pip install matplotlib\n",
    "! pip install random\n",
    "import matplotlib.pyplot as plt\n",
    "from scipy.optimize import minimize\n",
    "import numpy as np\n",
    "import time\n",
    "import random"
   ]
  },
  {
   "cell_type": "code",
   "execution_count": 8,
   "metadata": {},
   "outputs": [],
   "source": []
  },
  {
   "cell_type": "code",
   "execution_count": 26,
   "metadata": {},
   "outputs": [
    {
     "data": {
      "image/png": "[encoded data removed]",
      "text/plain": [
       "<Figure size 432x288 with 1 Axes>"
      ]
     },
     "metadata": {
      "needs_background": "light"
     },
     "output_type": "display_data"
    }
   ],
   "source": [
    "#EXERCISE 1\n",
    "\n",
    "#Revenue Maximisation Problem using the Simplex Method\n",
    "#let's visualise how it looks like for example in the case of i=1, a=100\n",
    "\n",
    "def Di(p):\n",
    " return 100*np.exp(-p/100)\n",
    "\n",
    "p = np.linspace(-50, 50, 100)\n",
    "Di = np.vectorize(Di)\n",
    "fig = plt.figure()\n",
    "plt.title(\"Di\")\n",
    "plt.plot(p, Di(p))\n",
    "plt.xlabel('p')\n",
    "plt.ylabel('Di')\n",
    "plt.show()\n"
   ]
  },
  {
   "cell_type": "code",
   "execution_count": 30,
   "metadata": {},
   "outputs": [
    {
     "name": "stdout",
     "output_type": "stream",
     "text": [
      "--- time used is 0.03382706642150879 seconds ---\n",
      "\n",
      "Part B\n",
      "\n",
      "the optimal prices are: [205.67432384 244.04082524 307.23660367] \n",
      "\n",
      "the number of people expected to buy per fare bucket are : (12.786973374310277, 29.479539874741203, 107.73348679276431)\n",
      "     fun: -150.00000004181578\n",
      "     jac: array([0.12786865, 0.19652939, 0.35910988])\n",
      " message: 'Optimization terminated successfully'\n",
      "    nfev: 24\n",
      "     nit: 6\n",
      "    njev: 6\n",
      "  status: 0\n",
      " success: True\n",
      "       x: array([205.67432384, 244.04082524, 307.23660367])\n",
      "\n",
      "Part C\n",
      "\n",
      "For a maximum number of 153 seats,\n",
      " \n",
      "the optimal prices are: [203.15585188 240.54315587 301.77742854] \n",
      "\n",
      "the number of people expected to buy per fare bucket are : (13.113099169547754, 30.17501472541634, 109.71188615345999)\n",
      "the change in price from adding 3 seats is: 3.0000000066083032\n",
      "Each price should be reduced by approximately 2.52\n"
     ]
    }
   ],
   "source": [
    "\n",
    "\n",
    "initial_prices=np.array([20,20,20]) # we set the three initial prices\n",
    "A=np.array([100,150,300])    \n",
    "seats=150\n",
    "\n",
    "def Revenue(parameters):  #cost function\n",
    "    P1=parameters[0]\n",
    "    P2=parameters[1]\n",
    "    P3=parameters[2]\n",
    "    return -1*((A[0]*np.exp(-P1/A[0]))+ (A[1]*np.exp(-P2/A[1]))+(A[2]*np.exp(-P3/A[2]))) # We just put a negative sign to change the maximizatio problem to a minimization one\n",
    "                                                                                                           \n",
    "def constraint(parameters,seats):\n",
    "    P1=parameters[0]\n",
    "    P2=parameters[1]\n",
    "    P3=parameters[2] \n",
    "    D1=A[0]*np.exp(-P1/A[0])\n",
    "    D2=A[1]*np.exp(-P2/A[1])\n",
    "    D3=A[2]*np.exp(-P3/A[2])\n",
    "    D=D1+D2+D3-seats\n",
    "    return D\n",
    "\n",
    "def model(parameters):\n",
    "    P1=parameters[0]\n",
    "    P2=parameters[1]\n",
    "    P3=parameters[2] \n",
    "    D1=A[0]*np.exp(-P1/A[0])\n",
    "    D2=A[1]*np.exp(-P2/A[1])\n",
    "    D3=A[2]*np.exp(-P3/A[2])\n",
    "    return D1,D2,D3\n",
    "\n",
    "seats=150\n",
    "cons={'type': 'eq', 'fun': constraint, 'args':[seats]}    \n",
    "bound=([0,None],[0,None],[0,None])\n",
    "start_time = time.time()\n",
    "solution = minimize(Revenue,initial_prices,method=\"SLSQP\", constraints=cons,bounds=bound)\n",
    "seats_per_bucket=model(solution.x)\n",
    "\n",
    "print(\"--- time used is %s seconds ---\" % (time.time() - start_time))\n",
    "print(\"\\nPart B\\n\")\n",
    "print(\"the optimal prices are:\",solution.x,\"\\n\")\n",
    "print(\"the number of people expected to buy per fare bucket are :\",seats_per_bucket)\n",
    "print(solution)\n",
    "\n",
    "##Question C) a)\n",
    "#with additional 3 seats\n",
    "new_seats=153\n",
    "new_cons={'type': 'eq', 'fun': constraint, 'args':[new_seats]}\n",
    "\n",
    "solution_153=minimize(Revenue,initial_prices,method='SLSQP', constraints=new_cons,bounds=bound)\n",
    "seats_per_bucket153=model(solution_153.x)\n",
    "\n",
    "print(\"\\nPart C\\n\")\n",
    "print(\"For a maximum number of 153 seats,\\n \")\n",
    "print(\"the optimal prices are:\",solution_153.x,\"\\n\")\n",
    "print(\"the number of people expected to buy per fare bucket are :\",seats_per_bucket153)\n",
    "\n",
    "#Question C) b) \n",
    "#By squeezing three additional  seats the optimal revenue is going to  change by a factor of 0.02\n",
    "change_in_price=abs(solution_153.fun)-abs(solution.fun)\n",
    "print(\"the change in price from adding 3 seats is:\",change_in_price)\n",
    "price_change2=solution_153.x-solution.x\n",
    "print(\"Each price should be reduced by approximately %.2f\"%abs(price_change2[0]))\n"
   ]
  },
  {
   "cell_type": "code",
   "execution_count": null,
   "metadata": {},
   "outputs": [],
   "source": []
  },
  {
   "cell_type": "code",
   "execution_count": null,
   "metadata": {},
   "outputs": [],
   "source": []
  },
  {
   "cell_type": "code",
   "execution_count": null,
   "metadata": {},
   "outputs": [],
   "source": []
  }
 ],
 "metadata": {
  "kernelspec": {
   "display_name": "Python 3",
   "language": "python",
   "name": "python3"
  },
  "language_info": {
   "codemirror_mode": {
    "name": "ipython",
    "version": 3
   },
   "file_extension": ".py",
   "mimetype": "text/x-python",
   "name": "python",
   "nbconvert_exporter": "python",
   "pygments_lexer": "ipython3",
   "version": "3.7.8"
  }
 },
 "nbformat": 4,
 "nbformat_minor": 4
}
